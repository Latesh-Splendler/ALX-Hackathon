{
  "nbformat": 4,
  "nbformat_minor": 0,
  "metadata": {
    "colab": {
      "provenance": [],
      "authorship_tag": "ABX9TyPOldi1ExASisMj/LXSsK6X",
      "include_colab_link": true
    },
    "kernelspec": {
      "name": "python3",
      "display_name": "Python 3"
    },
    "language_info": {
      "name": "python"
    }
  },
  "cells": [
    {
      "cell_type": "markdown",
      "metadata": {
        "id": "view-in-github",
        "colab_type": "text"
      },
      "source": [
        "<a href=\"https://colab.research.google.com/github/Latesh-Splendler/ALX-Hackathon/blob/master/ALX_Hackathon.ipynb\" target=\"_parent\"><img src=\"https://colab.research.google.com/assets/colab-badge.svg\" alt=\"Open In Colab\"/></a>"
      ]
    },
    {
      "cell_type": "markdown",
      "source": [
        "## SETUP AND IMPORTS"
      ],
      "metadata": {
        "id": "M1wVvlCFAOxV"
      }
    },
    {
      "cell_type": "code",
      "execution_count": null,
      "metadata": {
        "colab": {
          "base_uri": "https://localhost:8080/"
        },
        "id": "593Pnp5kxpRl",
        "outputId": "fa53112a-9595-415b-d93c-6f84cf136f13"
      },
      "outputs": [
        {
          "output_type": "stream",
          "name": "stdout",
          "text": [
            "Requirement already satisfied: pandas in /usr/local/lib/python3.12/dist-packages (2.2.2)\n",
            "Requirement already satisfied: numpy>=1.26.0 in /usr/local/lib/python3.12/dist-packages (from pandas) (2.0.2)\n",
            "Requirement already satisfied: python-dateutil>=2.8.2 in /usr/local/lib/python3.12/dist-packages (from pandas) (2.9.0.post0)\n",
            "Requirement already satisfied: pytz>=2020.1 in /usr/local/lib/python3.12/dist-packages (from pandas) (2025.2)\n",
            "Requirement already satisfied: tzdata>=2022.7 in /usr/local/lib/python3.12/dist-packages (from pandas) (2025.2)\n",
            "Requirement already satisfied: six>=1.5 in /usr/local/lib/python3.12/dist-packages (from python-dateutil>=2.8.2->pandas) (1.17.0)\n",
            "Requirement already satisfied: numpy in /usr/local/lib/python3.12/dist-packages (2.0.2)\n",
            "\u001b[31mERROR: Could not find a version that satisfies the requirement matplolib (from versions: none)\u001b[0m\u001b[31m\n",
            "\u001b[0m\u001b[31mERROR: No matching distribution found for matplolib\u001b[0m\u001b[31m\n",
            "\u001b[0mRequirement already satisfied: seaborn in /usr/local/lib/python3.12/dist-packages (0.13.2)\n",
            "Requirement already satisfied: numpy!=1.24.0,>=1.20 in /usr/local/lib/python3.12/dist-packages (from seaborn) (2.0.2)\n",
            "Requirement already satisfied: pandas>=1.2 in /usr/local/lib/python3.12/dist-packages (from seaborn) (2.2.2)\n",
            "Requirement already satisfied: matplotlib!=3.6.1,>=3.4 in /usr/local/lib/python3.12/dist-packages (from seaborn) (3.10.0)\n",
            "Requirement already satisfied: contourpy>=1.0.1 in /usr/local/lib/python3.12/dist-packages (from matplotlib!=3.6.1,>=3.4->seaborn) (1.3.3)\n",
            "Requirement already satisfied: cycler>=0.10 in /usr/local/lib/python3.12/dist-packages (from matplotlib!=3.6.1,>=3.4->seaborn) (0.12.1)\n",
            "Requirement already satisfied: fonttools>=4.22.0 in /usr/local/lib/python3.12/dist-packages (from matplotlib!=3.6.1,>=3.4->seaborn) (4.60.1)\n",
            "Requirement already satisfied: kiwisolver>=1.3.1 in /usr/local/lib/python3.12/dist-packages (from matplotlib!=3.6.1,>=3.4->seaborn) (1.4.9)\n",
            "Requirement already satisfied: packaging>=20.0 in /usr/local/lib/python3.12/dist-packages (from matplotlib!=3.6.1,>=3.4->seaborn) (25.0)\n",
            "Requirement already satisfied: pillow>=8 in /usr/local/lib/python3.12/dist-packages (from matplotlib!=3.6.1,>=3.4->seaborn) (11.3.0)\n",
            "Requirement already satisfied: pyparsing>=2.3.1 in /usr/local/lib/python3.12/dist-packages (from matplotlib!=3.6.1,>=3.4->seaborn) (3.2.5)\n",
            "Requirement already satisfied: python-dateutil>=2.7 in /usr/local/lib/python3.12/dist-packages (from matplotlib!=3.6.1,>=3.4->seaborn) (2.9.0.post0)\n",
            "Requirement already satisfied: pytz>=2020.1 in /usr/local/lib/python3.12/dist-packages (from pandas>=1.2->seaborn) (2025.2)\n",
            "Requirement already satisfied: tzdata>=2022.7 in /usr/local/lib/python3.12/dist-packages (from pandas>=1.2->seaborn) (2025.2)\n",
            "Requirement already satisfied: six>=1.5 in /usr/local/lib/python3.12/dist-packages (from python-dateutil>=2.7->matplotlib!=3.6.1,>=3.4->seaborn) (1.17.0)\n",
            "Collecting sklearn\n",
            "  Downloading sklearn-0.0.post12.tar.gz (2.6 kB)\n",
            "  \u001b[1;31merror\u001b[0m: \u001b[1msubprocess-exited-with-error\u001b[0m\n",
            "  \n",
            "  \u001b[31m×\u001b[0m \u001b[32mpython setup.py egg_info\u001b[0m did not run successfully.\n",
            "  \u001b[31m│\u001b[0m exit code: \u001b[1;36m1\u001b[0m\n",
            "  \u001b[31m╰─>\u001b[0m See above for output.\n",
            "  \n",
            "  \u001b[1;35mnote\u001b[0m: This error originates from a subprocess, and is likely not a problem with pip.\n",
            "  Preparing metadata (setup.py) ... \u001b[?25l\u001b[?25herror\n",
            "\u001b[1;31merror\u001b[0m: \u001b[1mmetadata-generation-failed\u001b[0m\n",
            "\n",
            "\u001b[31m×\u001b[0m Encountered error while generating package metadata.\n",
            "\u001b[31m╰─>\u001b[0m See above for output.\n",
            "\n",
            "\u001b[1;35mnote\u001b[0m: This is an issue with the package mentioned above, not pip.\n",
            "\u001b[1;36mhint\u001b[0m: See above for details.\n"
          ]
        }
      ],
      "source": [
        "! pip install pandas\n",
        "! pip install numpy\n",
        "! pip install matplolib\n",
        "! pip install seaborn\n",
        "! pip install sklearn"
      ]
    },
    {
      "cell_type": "code",
      "source": [
        "import pandas as pd\n",
        "import numpy as np\n",
        "import matplotlib.pyplot as plt\n",
        "import seaborn as sns\n",
        "import warnings\n",
        "warnings.filterwarnings('ignore')\n",
        "from sklearn.model_selection import train_test_split, cross_val_score, GridSearchCV\n",
        "from sklearn.ensemble import RandomForestRegressor, GradientBoostingRegressor\n",
        "from sklearn.preprocessing import StandardScaler\n",
        "from sklearn.metrics import mean_absolute_error, mean_squared_error, r2_score\n",
        "import joblib"
      ],
      "metadata": {
        "id": "ZcR5cjdXx-cb"
      },
      "execution_count": null,
      "outputs": []
    },
    {
      "cell_type": "code",
      "source": [
        "sns.set_style('whitegrid')\n",
        "plt.rcParams['figure.figsize'] = (12, 6)\n",
        "\n",
        "print(\"✓ Libraries imported successfully\")"
      ],
      "metadata": {
        "colab": {
          "base_uri": "https://localhost:8080/"
        },
        "id": "vzhAh6W6-muL",
        "outputId": "841740ba-50d4-4146-da11-6a160188f915"
      },
      "execution_count": null,
      "outputs": [
        {
          "output_type": "stream",
          "name": "stdout",
          "text": [
            "✓ Libraries imported successfully\n"
          ]
        }
      ]
    },
    {
      "cell_type": "markdown",
      "source": [
        "## Load the Dataset\n"
      ],
      "metadata": {
        "id": "1T7nTAzUyano"
      }
    },
    {
      "cell_type": "code",
      "source": [
        "data = pd.read_csv(\"data.csv\")\n",
        "print(data)"
      ],
      "metadata": {
        "colab": {
          "base_uri": "https://localhost:8080/"
        },
        "id": "oTcfZNRfyH5s",
        "outputId": "d5e9314c-202c-47bc-9931-2e5e885cb0e4"
      },
      "execution_count": null,
      "outputs": [
        {
          "output_type": "stream",
          "name": "stdout",
          "text": [
            "     iso3_country_code        Date  \\\n",
            "0                  NaN  09/01/2025   \n",
            "1                  NaN  08/01/2025   \n",
            "2                  NaN  07/01/2025   \n",
            "3                  NaN  06/01/2025   \n",
            "4                  NaN  05/01/2025   \n",
            "..                 ...         ...   \n",
            "243                NaN  06/01/2005   \n",
            "244                NaN  05/01/2005   \n",
            "245                NaN  04/01/2005   \n",
            "246                NaN  03/01/2005   \n",
            "247                NaN  02/01/2005   \n",
            "\n",
            "     Kenya, RETAIL, Bungoma, Beans (Rosecoco), KES/Kg  \\\n",
            "0                                                 NaN   \n",
            "1                                                 NaN   \n",
            "2                                                 NaN   \n",
            "3                                                 NaN   \n",
            "4                                               200.0   \n",
            "..                                                ...   \n",
            "243                                               NaN   \n",
            "244                                               NaN   \n",
            "245                                               NaN   \n",
            "246                                               NaN   \n",
            "247                                               NaN   \n",
            "\n",
            "     Kenya, RETAIL, Bungoma, Maize (white), KES/Kg  \\\n",
            "0                                              NaN   \n",
            "1                                              NaN   \n",
            "2                                              NaN   \n",
            "3                                              NaN   \n",
            "4                                             75.0   \n",
            "..                                             ...   \n",
            "243                                            NaN   \n",
            "244                                            NaN   \n",
            "245                                            NaN   \n",
            "246                                            NaN   \n",
            "247                                            NaN   \n",
            "\n",
            "     Kenya, RETAIL, Eldoret, Beans (Rosecoco), KES/Kg  \\\n",
            "0                                                 NaN   \n",
            "1                                                 NaN   \n",
            "2                                                 NaN   \n",
            "3                                               190.0   \n",
            "4                                               160.0   \n",
            "..                                                ...   \n",
            "243                                               NaN   \n",
            "244                                               NaN   \n",
            "245                                               NaN   \n",
            "246                                               NaN   \n",
            "247                                               NaN   \n",
            "\n",
            "     Kenya, RETAIL, Eldoret, Maize (white), KES/Kg  \\\n",
            "0                                              NaN   \n",
            "1                                              NaN   \n",
            "2                                              NaN   \n",
            "3                                             70.0   \n",
            "4                                             59.0   \n",
            "..                                             ...   \n",
            "243                                            NaN   \n",
            "244                                            NaN   \n",
            "245                                            NaN   \n",
            "246                                            NaN   \n",
            "247                                            NaN   \n",
            "\n",
            "     Kenya, RETAIL, Kapsabet, Beans (Rosecoco), KES/Kg  \\\n",
            "0                                                  NaN   \n",
            "1                                                  NaN   \n",
            "2                                                  NaN   \n",
            "3                                                  NaN   \n",
            "4                                                  NaN   \n",
            "..                                                 ...   \n",
            "243                                                NaN   \n",
            "244                                                NaN   \n",
            "245                                                NaN   \n",
            "246                                                NaN   \n",
            "247                                                NaN   \n",
            "\n",
            "     Kenya, RETAIL, Kapsabet, Maize (white), KES/Kg  \\\n",
            "0                                               NaN   \n",
            "1                                               NaN   \n",
            "2                                               NaN   \n",
            "3                                               NaN   \n",
            "4                                               NaN   \n",
            "..                                              ...   \n",
            "243                                             NaN   \n",
            "244                                             NaN   \n",
            "245                                             NaN   \n",
            "246                                             NaN   \n",
            "247                                             NaN   \n",
            "\n",
            "     Kenya, RETAIL, Kitale, Beans (Rosecoco), KES/Kg  \\\n",
            "0                                             127.00   \n",
            "1                                             127.53   \n",
            "2                                             130.00   \n",
            "3                                             149.09   \n",
            "4                                             144.44   \n",
            "..                                               ...   \n",
            "243                                              NaN   \n",
            "244                                              NaN   \n",
            "245                                              NaN   \n",
            "246                                              NaN   \n",
            "247                                              NaN   \n",
            "\n",
            "     Kenya, RETAIL, Kitale, Maize (white), KES/Kg  ...  \\\n",
            "0                                           63.44  ...   \n",
            "1                                           64.38  ...   \n",
            "2                                           65.33  ...   \n",
            "3                                           60.55  ...   \n",
            "4                                           59.01  ...   \n",
            "..                                            ...  ...   \n",
            "243                                           NaN  ...   \n",
            "244                                           NaN  ...   \n",
            "245                                           NaN  ...   \n",
            "246                                           NaN  ...   \n",
            "247                                           NaN  ...   \n",
            "\n",
            "     Kenya, WHOLESALE, Bungoma, Beans (Rosecoco), KES/Kg  \\\n",
            "0                                                  NaN     \n",
            "1                                                  NaN     \n",
            "2                                                  NaN     \n",
            "3                                                  NaN     \n",
            "4                                                175.0     \n",
            "..                                                 ...     \n",
            "243                                                NaN     \n",
            "244                                                NaN     \n",
            "245                                                NaN     \n",
            "246                                                NaN     \n",
            "247                                                NaN     \n",
            "\n",
            "     Kenya, WHOLESALE, Bungoma, Maize (white), KES/Kg  \\\n",
            "0                                                 NaN   \n",
            "1                                                 NaN   \n",
            "2                                                 NaN   \n",
            "3                                                 NaN   \n",
            "4                                                65.0   \n",
            "..                                                ...   \n",
            "243                                               NaN   \n",
            "244                                               NaN   \n",
            "245                                               NaN   \n",
            "246                                               NaN   \n",
            "247                                               NaN   \n",
            "\n",
            "     Kenya, WHOLESALE, Eldoret, Beans (Rosecoco), KES/Kg  \\\n",
            "0                                                  NaN     \n",
            "1                                                  NaN     \n",
            "2                                                  NaN     \n",
            "3                                               175.00     \n",
            "4                                               150.00     \n",
            "..                                                 ...     \n",
            "243                                              40.00     \n",
            "244                                              33.33     \n",
            "245                                              37.53     \n",
            "246                                              32.96     \n",
            "247                                              33.33     \n",
            "\n",
            "     Kenya, WHOLESALE, Eldoret, Maize (white), KES/Kg  \\\n",
            "0                                                 NaN   \n",
            "1                                                 NaN   \n",
            "2                                                 NaN   \n",
            "3                                               60.00   \n",
            "4                                               50.00   \n",
            "..                                                ...   \n",
            "243                                             15.56   \n",
            "244                                             13.33   \n",
            "245                                             13.63   \n",
            "246                                             13.55   \n",
            "247                                             13.56   \n",
            "\n",
            "     Kenya, WHOLESALE, Kapsabet, Beans (Rosecoco), KES/Kg  \\\n",
            "0                                                  NaN      \n",
            "1                                                  NaN      \n",
            "2                                                  NaN      \n",
            "3                                                  NaN      \n",
            "4                                                  NaN      \n",
            "..                                                 ...      \n",
            "243                                                NaN      \n",
            "244                                                NaN      \n",
            "245                                                NaN      \n",
            "246                                                NaN      \n",
            "247                                                NaN      \n",
            "\n",
            "     Kenya, WHOLESALE, Kapsabet, Maize (white), KES/Kg  \\\n",
            "0                                                  NaN   \n",
            "1                                                  NaN   \n",
            "2                                                  NaN   \n",
            "3                                                  NaN   \n",
            "4                                                  NaN   \n",
            "..                                                 ...   \n",
            "243                                                NaN   \n",
            "244                                                NaN   \n",
            "245                                                NaN   \n",
            "246                                                NaN   \n",
            "247                                                NaN   \n",
            "\n",
            "     Kenya, WHOLESALE, Kitale, Beans (Rosecoco), KES/Kg  \\\n",
            "0                                                97.00    \n",
            "1                                               100.00    \n",
            "2                                               102.50    \n",
            "3                                               122.92    \n",
            "4                                               121.43    \n",
            "..                                                 ...    \n",
            "243                                                NaN    \n",
            "244                                                NaN    \n",
            "245                                                NaN    \n",
            "246                                                NaN    \n",
            "247                                                NaN    \n",
            "\n",
            "     Kenya, WHOLESALE, Kitale, Maize (white), KES/Kg  \\\n",
            "0                                              50.00   \n",
            "1                                              51.25   \n",
            "2                                              54.00   \n",
            "3                                              50.87   \n",
            "4                                              48.97   \n",
            "..                                               ...   \n",
            "243                                              NaN   \n",
            "244                                              NaN   \n",
            "245                                              NaN   \n",
            "246                                              NaN   \n",
            "247                                              NaN   \n",
            "\n",
            "     Kenya, WHOLESALE, Nairobi Kangemi, Beans (Rosecoco), KES/Kg  \\\n",
            "0                                                  NaN             \n",
            "1                                                  NaN             \n",
            "2                                               126.67             \n",
            "3                                                  NaN             \n",
            "4                                               128.33             \n",
            "..                                                 ...             \n",
            "243                                                NaN             \n",
            "244                                                NaN             \n",
            "245                                                NaN             \n",
            "246                                                NaN             \n",
            "247                                                NaN             \n",
            "\n",
            "     Kenya, WHOLESALE, Nairobi Kangemi, Maize (white), KES/Kg  \n",
            "0                                                  NaN         \n",
            "1                                                49.44         \n",
            "2                                                52.78         \n",
            "3                                                  NaN         \n",
            "4                                                47.78         \n",
            "..                                                 ...         \n",
            "243                                                NaN         \n",
            "244                                                NaN         \n",
            "245                                                NaN         \n",
            "246                                                NaN         \n",
            "247                                                NaN         \n",
            "\n",
            "[248 rows x 23 columns]\n"
          ]
        }
      ]
    },
    {
      "cell_type": "code",
      "source": [
        "print(\"\\n\" + \"=\"*70)\n",
        "print(\"DATA OVERVIEW\")\n",
        "print(\"=\"*70)\n",
        "print(f\"\\nDataset Shape: {data.shape}\")\n",
        "print(f\"Date Range: {data['Date'].iloc[-1]} to {data['Date'].iloc[0]}\")\n",
        "print(f\"\\nColumn Names:\\n{data.columns.tolist()}\")\n",
        "print(f\"\\nFirst few rows:\")\n",
        "print(data.head())"
      ],
      "metadata": {
        "colab": {
          "base_uri": "https://localhost:8080/"
        },
        "id": "bB_6BL-S-8iY",
        "outputId": "3d1a7066-2c20-438d-afa2-fcd05e9aac6a"
      },
      "execution_count": null,
      "outputs": [
        {
          "output_type": "stream",
          "name": "stdout",
          "text": [
            "\n",
            "======================================================================\n",
            "DATA OVERVIEW\n",
            "======================================================================\n",
            "\n",
            "Dataset Shape: (248, 23)\n",
            "Date Range: 02/01/2005 to 09/01/2025\n",
            "\n",
            "Column Names:\n",
            "['iso3_country_code', 'Date', 'Kenya, RETAIL, Bungoma, Beans (Rosecoco), KES/Kg', 'Kenya, RETAIL, Bungoma, Maize (white), KES/Kg', 'Kenya, RETAIL, Eldoret, Beans (Rosecoco), KES/Kg', 'Kenya, RETAIL, Eldoret, Maize (white), KES/Kg', 'Kenya, RETAIL, Kapsabet, Beans (Rosecoco), KES/Kg', 'Kenya, RETAIL, Kapsabet, Maize (white), KES/Kg', 'Kenya, RETAIL, Kitale, Beans (Rosecoco), KES/Kg', 'Kenya, RETAIL, Kitale, Maize (white), KES/Kg', 'Kenya, RETAIL, Nairobi Kangemi, Beans (Rosecoco), KES/Kg', 'Kenya, RETAIL, Nairobi Kangemi, Maize (white), KES/Kg', 'Kenya, RETAIL, National Average, Maize (grain), KES/Kg', 'Kenya, WHOLESALE, Bungoma, Beans (Rosecoco), KES/Kg', 'Kenya, WHOLESALE, Bungoma, Maize (white), KES/Kg', 'Kenya, WHOLESALE, Eldoret, Beans (Rosecoco), KES/Kg', 'Kenya, WHOLESALE, Eldoret, Maize (white), KES/Kg', 'Kenya, WHOLESALE, Kapsabet, Beans (Rosecoco), KES/Kg', 'Kenya, WHOLESALE, Kapsabet, Maize (white), KES/Kg', 'Kenya, WHOLESALE, Kitale, Beans (Rosecoco), KES/Kg', 'Kenya, WHOLESALE, Kitale, Maize (white), KES/Kg', 'Kenya, WHOLESALE, Nairobi Kangemi, Beans (Rosecoco), KES/Kg', 'Kenya, WHOLESALE, Nairobi Kangemi, Maize (white), KES/Kg']\n",
            "\n",
            "First few rows:\n",
            "   iso3_country_code        Date  \\\n",
            "0                NaN  09/01/2025   \n",
            "1                NaN  08/01/2025   \n",
            "2                NaN  07/01/2025   \n",
            "3                NaN  06/01/2025   \n",
            "4                NaN  05/01/2025   \n",
            "\n",
            "   Kenya, RETAIL, Bungoma, Beans (Rosecoco), KES/Kg  \\\n",
            "0                                               NaN   \n",
            "1                                               NaN   \n",
            "2                                               NaN   \n",
            "3                                               NaN   \n",
            "4                                             200.0   \n",
            "\n",
            "   Kenya, RETAIL, Bungoma, Maize (white), KES/Kg  \\\n",
            "0                                            NaN   \n",
            "1                                            NaN   \n",
            "2                                            NaN   \n",
            "3                                            NaN   \n",
            "4                                           75.0   \n",
            "\n",
            "   Kenya, RETAIL, Eldoret, Beans (Rosecoco), KES/Kg  \\\n",
            "0                                               NaN   \n",
            "1                                               NaN   \n",
            "2                                               NaN   \n",
            "3                                             190.0   \n",
            "4                                             160.0   \n",
            "\n",
            "   Kenya, RETAIL, Eldoret, Maize (white), KES/Kg  \\\n",
            "0                                            NaN   \n",
            "1                                            NaN   \n",
            "2                                            NaN   \n",
            "3                                           70.0   \n",
            "4                                           59.0   \n",
            "\n",
            "   Kenya, RETAIL, Kapsabet, Beans (Rosecoco), KES/Kg  \\\n",
            "0                                                NaN   \n",
            "1                                                NaN   \n",
            "2                                                NaN   \n",
            "3                                                NaN   \n",
            "4                                                NaN   \n",
            "\n",
            "   Kenya, RETAIL, Kapsabet, Maize (white), KES/Kg  \\\n",
            "0                                             NaN   \n",
            "1                                             NaN   \n",
            "2                                             NaN   \n",
            "3                                             NaN   \n",
            "4                                             NaN   \n",
            "\n",
            "   Kenya, RETAIL, Kitale, Beans (Rosecoco), KES/Kg  \\\n",
            "0                                           127.00   \n",
            "1                                           127.53   \n",
            "2                                           130.00   \n",
            "3                                           149.09   \n",
            "4                                           144.44   \n",
            "\n",
            "   Kenya, RETAIL, Kitale, Maize (white), KES/Kg  ...  \\\n",
            "0                                         63.44  ...   \n",
            "1                                         64.38  ...   \n",
            "2                                         65.33  ...   \n",
            "3                                         60.55  ...   \n",
            "4                                         59.01  ...   \n",
            "\n",
            "   Kenya, WHOLESALE, Bungoma, Beans (Rosecoco), KES/Kg  \\\n",
            "0                                                NaN     \n",
            "1                                                NaN     \n",
            "2                                                NaN     \n",
            "3                                                NaN     \n",
            "4                                              175.0     \n",
            "\n",
            "   Kenya, WHOLESALE, Bungoma, Maize (white), KES/Kg  \\\n",
            "0                                               NaN   \n",
            "1                                               NaN   \n",
            "2                                               NaN   \n",
            "3                                               NaN   \n",
            "4                                              65.0   \n",
            "\n",
            "   Kenya, WHOLESALE, Eldoret, Beans (Rosecoco), KES/Kg  \\\n",
            "0                                                NaN     \n",
            "1                                                NaN     \n",
            "2                                                NaN     \n",
            "3                                              175.0     \n",
            "4                                              150.0     \n",
            "\n",
            "   Kenya, WHOLESALE, Eldoret, Maize (white), KES/Kg  \\\n",
            "0                                               NaN   \n",
            "1                                               NaN   \n",
            "2                                               NaN   \n",
            "3                                              60.0   \n",
            "4                                              50.0   \n",
            "\n",
            "   Kenya, WHOLESALE, Kapsabet, Beans (Rosecoco), KES/Kg  \\\n",
            "0                                                NaN      \n",
            "1                                                NaN      \n",
            "2                                                NaN      \n",
            "3                                                NaN      \n",
            "4                                                NaN      \n",
            "\n",
            "   Kenya, WHOLESALE, Kapsabet, Maize (white), KES/Kg  \\\n",
            "0                                                NaN   \n",
            "1                                                NaN   \n",
            "2                                                NaN   \n",
            "3                                                NaN   \n",
            "4                                                NaN   \n",
            "\n",
            "   Kenya, WHOLESALE, Kitale, Beans (Rosecoco), KES/Kg  \\\n",
            "0                                              97.00    \n",
            "1                                             100.00    \n",
            "2                                             102.50    \n",
            "3                                             122.92    \n",
            "4                                             121.43    \n",
            "\n",
            "   Kenya, WHOLESALE, Kitale, Maize (white), KES/Kg  \\\n",
            "0                                            50.00   \n",
            "1                                            51.25   \n",
            "2                                            54.00   \n",
            "3                                            50.87   \n",
            "4                                            48.97   \n",
            "\n",
            "   Kenya, WHOLESALE, Nairobi Kangemi, Beans (Rosecoco), KES/Kg  \\\n",
            "0                                                NaN             \n",
            "1                                                NaN             \n",
            "2                                             126.67             \n",
            "3                                                NaN             \n",
            "4                                             128.33             \n",
            "\n",
            "   Kenya, WHOLESALE, Nairobi Kangemi, Maize (white), KES/Kg  \n",
            "0                                                NaN         \n",
            "1                                              49.44         \n",
            "2                                              52.78         \n",
            "3                                                NaN         \n",
            "4                                              47.78         \n",
            "\n",
            "[5 rows x 23 columns]\n"
          ]
        }
      ]
    },
    {
      "cell_type": "markdown",
      "source": [
        "## DATA CLEANING AND PREPROCESSING"
      ],
      "metadata": {
        "id": "DXr7sTzYAzdu"
      }
    },
    {
      "cell_type": "code",
      "source": [
        "print(\"\\n\" + \"=\"*70)\n",
        "print(\"DATA CLEANING\")\n",
        "print(\"=\"*70)"
      ],
      "metadata": {
        "colab": {
          "base_uri": "https://localhost:8080/"
        },
        "id": "F0erv0jN_ZuM",
        "outputId": "3b800bb8-9160-408b-9e01-962b886988bd"
      },
      "execution_count": null,
      "outputs": [
        {
          "output_type": "stream",
          "name": "stdout",
          "text": [
            "\n",
            "======================================================================\n",
            "DATA CLEANING\n",
            "======================================================================\n"
          ]
        }
      ]
    },
    {
      "cell_type": "markdown",
      "source": [
        "**Convert Date to datetime**"
      ],
      "metadata": {
        "id": "1_MKrY8RA3VQ"
      }
    },
    {
      "cell_type": "code",
      "source": [
        "data['Date'] = pd.to_datetime(data['Date'], format='%m/%d/%Y', errors='coerce')\n",
        "df = data.dropna(subset=['Date'])\n",
        "df = df.sort_values('Date').reset_index(drop=True)"
      ],
      "metadata": {
        "id": "deACPCX6_i66"
      },
      "execution_count": null,
      "outputs": []
    },
    {
      "cell_type": "code",
      "source": [
        "df = df.drop('iso3_country_code', axis=1)"
      ],
      "metadata": {
        "id": "i4Ni3JyyADyZ"
      },
      "execution_count": null,
      "outputs": []
    },
    {
      "cell_type": "markdown",
      "source": [
        "**Separate columns by crop and market type**"
      ],
      "metadata": {
        "id": "-9wREPuFBC7b"
      }
    },
    {
      "cell_type": "code",
      "source": [
        "maize_cols = [col for col in df.columns if 'Maize' in col]\n",
        "beans_cols = [col for col in df.columns if 'Beans' in col]\n",
        "\n",
        "print(\"\\n✓ Date converted to datetime format\")\n",
        "print(f\"✓ Found {len(maize_cols)} Maize price columns\")\n",
        "print(f\"✓ Found {len(beans_cols)} Beans price columns\")"
      ],
      "metadata": {
        "colab": {
          "base_uri": "https://localhost:8080/"
        },
        "id": "bzU3vVDIBFIX",
        "outputId": "855fcfe9-a064-4396-c594-90bcbe7a48de"
      },
      "execution_count": null,
      "outputs": [
        {
          "output_type": "stream",
          "name": "stdout",
          "text": [
            "\n",
            "✓ Date converted to datetime format\n",
            "✓ Found 11 Maize price columns\n",
            "✓ Found 10 Beans price columns\n"
          ]
        }
      ]
    },
    {
      "cell_type": "markdown",
      "source": [
        "**Check missing values**"
      ],
      "metadata": {
        "id": "4fng9pfjBmLq"
      }
    },
    {
      "cell_type": "code",
      "source": [
        "missing_pct = (df.isnull().sum() / len(df) * 100).round(2)\n",
        "print(f\"\\nMissing Data Summary:\")\n",
        "print(f\"Average missing values: {missing_pct[missing_pct > 0].mean():.1f}%\")"
      ],
      "metadata": {
        "colab": {
          "base_uri": "https://localhost:8080/"
        },
        "id": "QAo50PN4BoP0",
        "outputId": "16c3d075-18f2-4de2-e5b4-007700b5b3fa"
      },
      "execution_count": null,
      "outputs": [
        {
          "output_type": "stream",
          "name": "stdout",
          "text": [
            "\n",
            "Missing Data Summary:\n",
            "Average missing values: 85.4%\n"
          ]
        }
      ]
    },
    {
      "cell_type": "markdown",
      "source": [
        "##  FEATURE ENGINEERING"
      ],
      "metadata": {
        "id": "o5e0wvrcBysI"
      }
    },
    {
      "cell_type": "code",
      "source": [
        "print(\"\\n\" + \"=\"*70)\n",
        "print(\"FEATURE ENGINEERING\")\n",
        "print(\"=\"*70)"
      ],
      "metadata": {
        "colab": {
          "base_uri": "https://localhost:8080/"
        },
        "id": "QWsse_yZB0e5",
        "outputId": "4660da82-b788-461c-8bb5-e30aa88a87ad"
      },
      "execution_count": null,
      "outputs": [
        {
          "output_type": "stream",
          "name": "stdout",
          "text": [
            "\n",
            "======================================================================\n",
            "FEATURE ENGINEERING\n",
            "======================================================================\n"
          ]
        }
      ]
    },
    {
      "cell_type": "code",
      "source": [
        "\n",
        "def create_features_for_crop(df, crop_cols, crop_name):\n",
        "    \"\"\"\n",
        "    Create ML features from price data for a specific crop\n",
        "    \"\"\"\n",
        "    # Create temporary dataframe\n",
        "    temp_df = df[['Date']].copy()\n",
        "\n",
        "    # Calculate average price across all locations for the crop\n",
        "    price_data = df[crop_cols].copy()\n",
        "    temp_df[f'{crop_name}_avg_price'] = price_data.mean(axis=1, skipna=True)\n",
        "    temp_df[f'{crop_name}_retail_avg'] = df[[col for col in crop_cols if 'RETAIL' in col]].mean(axis=1, skipna=True)\n",
        "    temp_df[f'{crop_name}_wholesale_avg'] = df[[col for col in crop_cols if 'WHOLESALE' in col]].mean(axis=1, skipna=True)\n",
        "\n",
        "    # Time-based features\n",
        "    temp_df['year'] = temp_df['Date'].dt.year\n",
        "    temp_df['month'] = temp_df['Date'].dt.month\n",
        "    temp_df['quarter'] = temp_df['Date'].dt.quarter\n",
        "    temp_df['days_since_start'] = (temp_df['Date'] - temp_df['Date'].min()).dt.days\n",
        "\n",
        "    # Cyclical encoding for month (captures seasonality)\n",
        "    temp_df['month_sin'] = np.sin(2 * np.pi * temp_df['month'] / 12)\n",
        "    temp_df['month_cos'] = np.cos(2 * np.pi * temp_df['month'] / 12)\n",
        "\n",
        "    # Drop rows with NaN in price columns\n",
        "    temp_df = temp_df.dropna(subset=[f'{crop_name}_avg_price'])\n",
        "\n",
        "    # Price-based features (lagging features for time series)\n",
        "    temp_df[f'{crop_name}_price_lag1'] = temp_df[f'{crop_name}_avg_price'].shift(1)\n",
        "    temp_df[f'{crop_name}_price_lag3'] = temp_df[f'{crop_name}_avg_price'].shift(3)\n",
        "    temp_df[f'{crop_name}_price_lag6'] = temp_df[f'{crop_name}_avg_price'].shift(6)\n",
        "\n",
        "    # Rolling statistics (trend indicators)\n",
        "    temp_df[f'{crop_name}_price_ma3'] = temp_df[f'{crop_name}_avg_price'].rolling(window=3, min_periods=1).mean()\n",
        "    temp_df[f'{crop_name}_price_ma6'] = temp_df[f'{crop_name}_avg_price'].rolling(window=6, min_periods=1).mean()\n",
        "    temp_df[f'{crop_name}_price_std3'] = temp_df[f'{crop_name}_avg_price'].rolling(window=3, min_periods=1).std()\n",
        "\n",
        "    # Price volatility (risk indicator)\n",
        "    temp_df[f'{crop_name}_volatility'] = temp_df[f'{crop_name}_avg_price'].rolling(window=6, min_periods=1).std() / temp_df[f'{crop_name}_price_ma6']\n",
        "\n",
        "    # Retail-wholesale margin (market efficiency indicator)\n",
        "    temp_df[f'{crop_name}_margin'] = temp_df[f'{crop_name}_retail_avg'] - temp_df[f'{crop_name}_wholesale_avg']\n",
        "    temp_df[f'{crop_name}_margin_pct'] = (temp_df[f'{crop_name}_margin'] / temp_df[f'{crop_name}_wholesale_avg']) * 100\n",
        "\n",
        "    return temp_df\n",
        "\n",
        "# Create features for both crops\n",
        "maize_features = create_features_for_crop(df, maize_cols, 'maize')\n",
        "beans_features = create_features_for_crop(df, beans_cols, 'beans')\n",
        "\n",
        "print(f\"✓ Created {len(maize_features.columns)-1} features for Maize\")\n",
        "print(f\"✓ Created {len(beans_features.columns)-1} features for Beans\")\n",
        "print(f\"\\nFeature Categories:\")\n",
        "print(\"  - Time-based: year, month, quarter, seasonality\")\n",
        "print(\"  - Lagged prices: 1, 3, 6 months back\")\n",
        "print(\"  - Rolling statistics: moving averages, std deviation\")\n",
        "print(\"  - Market indicators: volatility, retail-wholesale margins\")"
      ],
      "metadata": {
        "colab": {
          "base_uri": "https://localhost:8080/"
        },
        "id": "vYu4mMdECKMM",
        "outputId": "a80e562b-6a88-40a3-faaa-339599f495b1"
      },
      "execution_count": null,
      "outputs": [
        {
          "output_type": "stream",
          "name": "stdout",
          "text": [
            "✓ Created 18 features for Maize\n",
            "✓ Created 18 features for Beans\n",
            "\n",
            "Feature Categories:\n",
            "  - Time-based: year, month, quarter, seasonality\n",
            "  - Lagged prices: 1, 3, 6 months back\n",
            "  - Rolling statistics: moving averages, std deviation\n",
            "  - Market indicators: volatility, retail-wholesale margins\n"
          ]
        }
      ]
    },
    {
      "cell_type": "markdown",
      "source": [
        "##  CREATE TARGET VARIABLES"
      ],
      "metadata": {
        "id": "pfGnLSIfCb7p"
      }
    },
    {
      "cell_type": "code",
      "source": [
        "print(\"\\n\" + \"=\"*70)\n",
        "print(\"TARGET VARIABLE CREATION\")\n",
        "print(\"=\"*70)"
      ],
      "metadata": {
        "colab": {
          "base_uri": "https://localhost:8080/"
        },
        "id": "PmfrswjBCdjJ",
        "outputId": "4ea9f1bb-3862-498f-d981-4e8f24ff184b"
      },
      "execution_count": null,
      "outputs": [
        {
          "output_type": "stream",
          "name": "stdout",
          "text": [
            "\n",
            "======================================================================\n",
            "TARGET VARIABLE CREATION\n",
            "======================================================================\n"
          ]
        }
      ]
    },
    {
      "cell_type": "code",
      "source": [
        "\n",
        "def create_profitability_targets(features_df, crop_name):\n",
        "    \"\"\"\n",
        "    Create target variables based on expected profitability\n",
        "    Target: Expected profit per hectare in the next 3 months\n",
        "    \"\"\"\n",
        "    df = features_df.copy()\n",
        "\n",
        "    # Agricultural parameters (based on Kenya agricultural data)\n",
        "    if crop_name == 'maize':\n",
        "        avg_yield_kg_per_ha = 2000  # kg per hectare\n",
        "        cost_per_ha = 45000  # KES\n",
        "        growing_season_months = 4\n",
        "    else:  # beans\n",
        "        avg_yield_kg_per_ha = 800\n",
        "        cost_per_ha = 60000\n",
        "        growing_season_months = 3\n",
        "\n",
        "    # Calculate expected revenue (using future price)\n",
        "    df[f'{crop_name}_future_price'] = df[f'{crop_name}_avg_price'].shift(-3)  # 3 months ahead\n",
        "    df[f'{crop_name}_expected_revenue'] = df[f'{crop_name}_future_price'] * avg_yield_kg_per_ha\n",
        "    df[f'{crop_name}_expected_profit'] = df[f'{crop_name}_expected_revenue'] - cost_per_ha\n",
        "    df[f'{crop_name}_roi'] = (df[f'{crop_name}_expected_profit'] / cost_per_ha) * 100\n",
        "\n",
        "    # Target: Recommended loan amount (60-90% of cost based on ROI)\n",
        "    df[f'{crop_name}_loan_recommendation'] = df.apply(\n",
        "        lambda row: cost_per_ha * (0.9 if row[f'{crop_name}_roi'] > 40\n",
        "                                   else 0.75 if row[f'{crop_name}_roi'] > 20\n",
        "                                   else 0.6), axis=1\n",
        "    )\n",
        "\n",
        "    # Remove rows with NaN in target\n",
        "    df = df.dropna(subset=[f'{crop_name}_loan_recommendation'])\n",
        "\n",
        "    return df, cost_per_ha, avg_yield_kg_per_ha\n",
        "\n",
        "maize_data, maize_cost, maize_yield = create_profitability_targets(maize_features, 'maize')\n",
        "beans_data, beans_cost, beans_yield = create_profitability_targets(beans_features, 'beans')\n",
        "\n",
        "print(f\"\\n✓ Target variable created: Loan Recommendation Amount\")\n",
        "print(f\"\\nMaize Parameters:\")\n",
        "print(f\"  - Average yield: {maize_yield} kg/ha\")\n",
        "print(f\"  - Cost per hectare: KES {maize_cost:,}\")\n",
        "print(f\"\\nBeans Parameters:\")\n",
        "print(f\"  - Average yield: {beans_yield} kg/ha\")\n",
        "print(f\"  - Cost per hectare: KES {beans_cost:,}\")"
      ],
      "metadata": {
        "colab": {
          "base_uri": "https://localhost:8080/"
        },
        "id": "L90AuzoaChwY",
        "outputId": "b4902f6f-7967-49f2-d5ad-42c234e90723"
      },
      "execution_count": null,
      "outputs": [
        {
          "output_type": "stream",
          "name": "stdout",
          "text": [
            "\n",
            "✓ Target variable created: Loan Recommendation Amount\n",
            "\n",
            "Maize Parameters:\n",
            "  - Average yield: 2000 kg/ha\n",
            "  - Cost per hectare: KES 45,000\n",
            "\n",
            "Beans Parameters:\n",
            "  - Average yield: 800 kg/ha\n",
            "  - Cost per hectare: KES 60,000\n"
          ]
        }
      ]
    },
    {
      "cell_type": "markdown",
      "source": [
        "##  PREPARE DATA FOR ML"
      ],
      "metadata": {
        "id": "s0cBZFNsCuj7"
      }
    },
    {
      "cell_type": "code",
      "source": [
        "print(\"\\n\" + \"=\"*70)\n",
        "print(\"PREPARING DATA FOR MACHINE LEARNING\")\n",
        "print(\"=\"*70)"
      ],
      "metadata": {
        "colab": {
          "base_uri": "https://localhost:8080/"
        },
        "id": "djGo5mUXCwPj",
        "outputId": "a493f712-a800-4e96-eb99-b69b2ad6b378"
      },
      "execution_count": null,
      "outputs": [
        {
          "output_type": "stream",
          "name": "stdout",
          "text": [
            "\n",
            "======================================================================\n",
            "PREPARING DATA FOR MACHINE LEARNING\n",
            "======================================================================\n"
          ]
        }
      ]
    },
    {
      "cell_type": "code",
      "source": [
        "def prepare_ml_data(data, crop_name):\n",
        "    \"\"\"\n",
        "    Prepare features and target for ML model\n",
        "    \"\"\"\n",
        "    # Select feature columns (exclude date and target columns)\n",
        "    feature_cols = [col for col in data.columns\n",
        "                   if col not in ['Date', f'{crop_name}_future_price',\n",
        "                                 f'{crop_name}_expected_revenue',\n",
        "                                 f'{crop_name}_expected_profit',\n",
        "                                 f'{crop_name}_loan_recommendation']]\n",
        "\n",
        "    X = data[feature_cols].copy()\n",
        "    y = data[f'{crop_name}_loan_recommendation'].copy()\n",
        "\n",
        "    # Remove any remaining NaN\n",
        "    mask = ~(X.isna().any(axis=1) | y.isna())\n",
        "    X = X[mask]\n",
        "    y = y[mask]\n",
        "\n",
        "    return X, y, feature_cols\n",
        "\n",
        "# Prepare data for both crops\n",
        "X_maize, y_maize, maize_feature_cols = prepare_ml_data(maize_data, 'maize')\n",
        "X_beans, y_beans, beans_feature_cols = prepare_ml_data(beans_data, 'beans')\n",
        "\n",
        "print(f\"\\nMaize Model:\")\n",
        "print(f\"  - Samples: {len(X_maize)}\")\n",
        "print(f\"  - Features: {len(maize_feature_cols)}\")\n",
        "print(f\"  - Target range: KES {y_maize.min():,.0f} - {y_maize.max():,.0f}\")\n",
        "\n",
        "print(f\"\\nBeans Model:\")\n",
        "print(f\"  - Samples: {len(X_beans)}\")\n",
        "print(f\"  - Features: {len(beans_feature_cols)}\")\n",
        "print(f\"  - Target range: KES {y_beans.min():,.0f} - {y_beans.max():,.0f}\")"
      ],
      "metadata": {
        "colab": {
          "base_uri": "https://localhost:8080/"
        },
        "id": "xVejDdjmC8TO",
        "outputId": "746bad21-48fb-4d8d-8329-455a063a284e"
      },
      "execution_count": null,
      "outputs": [
        {
          "output_type": "stream",
          "name": "stdout",
          "text": [
            "\n",
            "Maize Model:\n",
            "  - Samples: 50\n",
            "  - Features: 19\n",
            "  - Target range: KES 40,500 - 40,500\n",
            "\n",
            "Beans Model:\n",
            "  - Samples: 50\n",
            "  - Features: 19\n",
            "  - Target range: KES 36,000 - 54,000\n"
          ]
        }
      ]
    },
    {
      "cell_type": "markdown",
      "source": [
        "## TRAIN-TEST SPLIT"
      ],
      "metadata": {
        "id": "VNYNSbeEDCo0"
      }
    },
    {
      "cell_type": "code",
      "source": [
        "print(\"\\n\" + \"=\"*70)\n",
        "print(\"TRAIN-TEST SPLIT\")\n",
        "print(\"=\"*70)"
      ],
      "metadata": {
        "colab": {
          "base_uri": "https://localhost:8080/"
        },
        "id": "t7J7JHtVDD0M",
        "outputId": "2e33f95d-ee76-4978-c068-94a61d879dff"
      },
      "execution_count": null,
      "outputs": [
        {
          "output_type": "stream",
          "name": "stdout",
          "text": [
            "\n",
            "======================================================================\n",
            "TRAIN-TEST SPLIT\n",
            "======================================================================\n"
          ]
        }
      ]
    },
    {
      "cell_type": "code",
      "source": [
        "\n",
        "# Time-based split (more realistic for time series)\n",
        "# Use last 20% of data as test set\n",
        "split_idx_maize = int(len(X_maize) * 0.8)\n",
        "split_idx_beans = int(len(X_beans) * 0.8)\n",
        "\n",
        "X_train_maize, X_test_maize = X_maize[:split_idx_maize], X_maize[split_idx_maize:]\n",
        "y_train_maize, y_test_maize = y_maize[:split_idx_maize], y_maize[split_idx_maize:]\n",
        "\n",
        "X_train_beans, X_test_beans = X_beans[:split_idx_beans], X_beans[split_idx_beans:]\n",
        "y_train_beans, y_test_beans = y_beans[:split_idx_beans], y_beans[split_idx_beans:]\n",
        "\n",
        "print(f\"\\nMaize:\")\n",
        "print(f\"  - Training samples: {len(X_train_maize)}\")\n",
        "print(f\"  - Test samples: {len(X_test_maize)}\")\n",
        "\n",
        "print(f\"\\nBeans:\")\n",
        "print(f\"  - Training samples: {len(X_train_beans)}\")\n",
        "print(f\"  - Test samples: {len(X_test_beans)}\")\n",
        "\n",
        "# Feature Scaling\n",
        "scaler_maize = StandardScaler()\n",
        "scaler_beans = StandardScaler()\n",
        "\n",
        "X_train_maize_scaled = scaler_maize.fit_transform(X_train_maize)\n",
        "X_test_maize_scaled = scaler_maize.transform(X_test_maize)\n",
        "\n",
        "X_train_beans_scaled = scaler_beans.fit_transform(X_train_beans)\n",
        "X_test_beans_scaled = scaler_beans.transform(X_test_beans)\n",
        "\n",
        "print(\"\\n✓ Feature scaling completed\")"
      ],
      "metadata": {
        "colab": {
          "base_uri": "https://localhost:8080/"
        },
        "id": "gqW-y2ycDQvG",
        "outputId": "1e2a5db1-e085-4a26-f148-1301b20cd570"
      },
      "execution_count": null,
      "outputs": [
        {
          "output_type": "stream",
          "name": "stdout",
          "text": [
            "\n",
            "Maize:\n",
            "  - Training samples: 40\n",
            "  - Test samples: 10\n",
            "\n",
            "Beans:\n",
            "  - Training samples: 40\n",
            "  - Test samples: 10\n",
            "\n",
            "✓ Feature scaling completed\n"
          ]
        }
      ]
    },
    {
      "cell_type": "markdown",
      "source": [
        "##  MODEL TRAINING"
      ],
      "metadata": {
        "id": "RaUpIigMDWYY"
      }
    },
    {
      "cell_type": "code",
      "source": [
        "print(\"\\n\" + \"=\"*70)\n",
        "print(\"MODEL TRAINING: RANDOM FOREST REGRESSOR\")\n",
        "print(\"=\"*70)"
      ],
      "metadata": {
        "colab": {
          "base_uri": "https://localhost:8080/"
        },
        "id": "YyAy2vl4DXrD",
        "outputId": "b108cea7-10c3-4a45-b009-26dd6d747f09"
      },
      "execution_count": null,
      "outputs": [
        {
          "output_type": "stream",
          "name": "stdout",
          "text": [
            "\n",
            "======================================================================\n",
            "MODEL TRAINING: RANDOM FOREST REGRESSOR\n",
            "======================================================================\n"
          ]
        }
      ]
    },
    {
      "cell_type": "code",
      "source": [
        "def train_and_evaluate_model(X_train, y_train, X_test, y_test, crop_name):\n",
        "    \"\"\"\n",
        "    Train Random Forest model with hyperparameter tuning\n",
        "    \"\"\"\n",
        "    print(f\"\\nTraining {crop_name.upper()} model...\")\n",
        "\n",
        "    # Initialize model\n",
        "    rf_model = RandomForestRegressor(\n",
        "        n_estimators=100,\n",
        "        max_depth=15,\n",
        "        min_samples_split=5,\n",
        "        min_samples_leaf=2,\n",
        "        random_state=42,\n",
        "        n_jobs=-1\n",
        "    )\n",
        "\n",
        "    # Train model\n",
        "    rf_model.fit(X_train, y_train)\n",
        "\n",
        "    # Predictions\n",
        "    y_pred_train = rf_model.predict(X_train)\n",
        "    y_pred_test = rf_model.predict(X_test)\n",
        "\n",
        "    # Evaluation metrics\n",
        "    train_mae = mean_absolute_error(y_train, y_pred_train)\n",
        "    test_mae = mean_absolute_error(y_test, y_pred_test)\n",
        "    train_rmse = np.sqrt(mean_squared_error(y_train, y_pred_train))\n",
        "    test_rmse = np.sqrt(mean_squared_error(y_test, y_pred_test))\n",
        "    train_r2 = r2_score(y_train, y_pred_train)\n",
        "    test_r2 = r2_score(y_test, y_pred_test)\n",
        "\n",
        "    print(f\"\\n{crop_name.upper()} Model Performance:\")\n",
        "    print(f\"{'Metric':<20} {'Training':<15} {'Testing'}\")\n",
        "    print(\"-\" * 50)\n",
        "    print(f\"{'MAE (KES)':<20} {train_mae:>14,.0f} {test_mae:>14,.0f}\")\n",
        "    print(f\"{'RMSE (KES)':<20} {train_rmse:>14,.0f} {test_rmse:>14,.0f}\")\n",
        "    print(f\"{'R² Score':<20} {train_r2:>14.3f} {test_r2:>14.3f}\")\n",
        "\n",
        "    # Cross-validation\n",
        "    cv_scores = cross_val_score(rf_model, X_train, y_train, cv=5,\n",
        "                                scoring='neg_mean_absolute_error', n_jobs=-1)\n",
        "    print(f\"{'CV MAE (KES)':<20} {-cv_scores.mean():>14,.0f} (+/- {cv_scores.std()*2:,.0f})\")\n",
        "\n",
        "    return rf_model, y_pred_test\n",
        "\n",
        "# Train models\n",
        "print(\"\\n🚀 Starting model training...\\n\")\n",
        "model_maize, y_pred_maize = train_and_evaluate_model(\n",
        "    X_train_maize_scaled, y_train_maize,\n",
        "    X_test_maize_scaled, y_test_maize,\n",
        "    'maize'\n",
        ")\n",
        "\n",
        "model_beans, y_pred_beans = train_and_evaluate_model(\n",
        "    X_train_beans_scaled, y_train_beans,\n",
        "    X_test_beans_scaled, y_test_beans,\n",
        "    'beans'\n",
        ")\n"
      ],
      "metadata": {
        "colab": {
          "base_uri": "https://localhost:8080/"
        },
        "id": "ochjRenmDbb7",
        "outputId": "f5b197ec-167f-4d2e-c984-ef7805f79290"
      },
      "execution_count": null,
      "outputs": [
        {
          "output_type": "stream",
          "name": "stdout",
          "text": [
            "\n",
            "🚀 Starting model training...\n",
            "\n",
            "\n",
            "Training MAIZE model...\n",
            "\n",
            "MAIZE Model Performance:\n",
            "Metric               Training        Testing\n",
            "--------------------------------------------------\n",
            "MAE (KES)                         0              0\n",
            "RMSE (KES)                        0              0\n",
            "R² Score                      1.000          1.000\n",
            "CV MAE (KES)                     -0 (+/- 0)\n",
            "\n",
            "Training BEANS model...\n",
            "\n",
            "BEANS Model Performance:\n",
            "Metric               Training        Testing\n",
            "--------------------------------------------------\n",
            "MAE (KES)                       414              0\n",
            "RMSE (KES)                      889              0\n",
            "R² Score                      0.972          1.000\n",
            "CV MAE (KES)                  1,323 (+/- 3,480)\n"
          ]
        }
      ]
    },
    {
      "cell_type": "markdown",
      "source": [
        "## FEATURE IMPORTANCE ANALYSIS"
      ],
      "metadata": {
        "id": "p5Wj5XYjDrNT"
      }
    },
    {
      "cell_type": "code",
      "source": [
        "print(\"\\n\" + \"=\"*70)\n",
        "print(\"FEATURE IMPORTANCE ANALYSIS\")\n",
        "print(\"=\"*70)"
      ],
      "metadata": {
        "colab": {
          "base_uri": "https://localhost:8080/"
        },
        "id": "LvPbW-AyDn-W",
        "outputId": "a1b775c8-97b5-43e0-d93a-eb941daeff30"
      },
      "execution_count": null,
      "outputs": [
        {
          "output_type": "stream",
          "name": "stdout",
          "text": [
            "\n",
            "======================================================================\n",
            "FEATURE IMPORTANCE ANALYSIS\n",
            "======================================================================\n"
          ]
        }
      ]
    },
    {
      "cell_type": "code",
      "source": [
        "\n",
        "def plot_feature_importance(model, feature_names, crop_name, top_n=15):\n",
        "    \"\"\"\n",
        "    Plot top N most important features\n",
        "    \"\"\"\n",
        "    # Get feature importances\n",
        "    importances = model.feature_importances_\n",
        "    indices = np.argsort(importances)[::-1][:top_n]\n",
        "\n",
        "    # Plot\n",
        "    plt.figure(figsize=(10, 6))\n",
        "    plt.title(f'Top {top_n} Important Features - {crop_name.upper()}', fontsize=14, fontweight='bold')\n",
        "    plt.barh(range(top_n), importances[indices], color='forestgreen', alpha=0.7)\n",
        "    plt.yticks(range(top_n), [feature_names[i] for i in indices])\n",
        "    plt.xlabel('Importance Score', fontsize=12)\n",
        "    plt.gca().invert_yaxis()\n",
        "    plt.tight_layout()\n",
        "    plt.show()\n",
        "\n",
        "    # Print top features\n",
        "    print(f\"\\nTop 10 Features for {crop_name.upper()}:\")\n",
        "    for i, idx in enumerate(indices[:10], 1):\n",
        "        print(f\"  {i}. {feature_names[idx]:<35} {importances[idx]:.4f}\")\n",
        "\n",
        "plot_feature_importance(model_maize, maize_feature_cols, 'maize')\n",
        "plot_feature_importance(model_beans, beans_feature_cols, 'beans')\n"
      ],
      "metadata": {
        "colab": {
          "base_uri": "https://localhost:8080/",
          "height": 1000
        },
        "id": "VFaeuqtdDwqQ",
        "outputId": "ab8334f0-0c1a-4fd8-dad8-d1f380f9b2d8"
      },
      "execution_count": null,
      "outputs": [
        {
          "output_type": "display_data",
          "data": {
            "text/plain": [
              "<Figure size 1000x600 with 1 Axes>"
            ],
            "image/png": "[encoded data removed]"
          },
          "metadata": {}
        },
        {
          "output_type": "stream",
          "name": "stdout",
          "text": [
            "\n",
            "Top 10 Features for MAIZE:\n",
            "  1. maize_roi                           0.0000\n",
            "  2. maize_margin_pct                    0.0000\n",
            "  3. maize_margin                        0.0000\n",
            "  4. maize_volatility                    0.0000\n",
            "  5. maize_price_std3                    0.0000\n",
            "  6. maize_price_ma6                     0.0000\n",
            "  7. maize_price_ma3                     0.0000\n",
            "  8. maize_price_lag6                    0.0000\n",
            "  9. maize_price_lag3                    0.0000\n",
            "  10. maize_price_lag1                    0.0000\n"
          ]
        },
        {
          "output_type": "display_data",
          "data": {
            "text/plain": [
              "<Figure size 1000x600 with 1 Axes>"
            ],
            "image/png": "[encoded data removed]"
          },
          "metadata": {}
        },
        {
          "output_type": "stream",
          "name": "stdout",
          "text": [
            "\n",
            "Top 10 Features for BEANS:\n",
            "  1. beans_roi                           0.8999\n",
            "  2. days_since_start                    0.0329\n",
            "  3. month                               0.0322\n",
            "  4. beans_price_lag6                    0.0094\n",
            "  5. year                                0.0087\n",
            "  6. quarter                             0.0077\n",
            "  7. beans_margin_pct                    0.0032\n",
            "  8. month_cos                           0.0027\n",
            "  9. beans_margin                        0.0021\n",
            "  10. beans_price_std3                    0.0008\n"
          ]
        }
      ]
    },
    {
      "cell_type": "markdown",
      "source": [
        "## MODEL PREDICTIONS VISUALIZATION"
      ],
      "metadata": {
        "id": "pSTFOFi0D99N"
      }
    },
    {
      "cell_type": "code",
      "source": [
        "print(\"\\n\" + \"=\"*70)\n",
        "print(\"MODEL PREDICTIONS VISUALIZATION\")\n",
        "print(\"=\"*70)"
      ],
      "metadata": {
        "colab": {
          "base_uri": "https://localhost:8080/"
        },
        "id": "OozUwXhCD6ud",
        "outputId": "05960ddd-e2e1-4722-a3af-f4db31739d25"
      },
      "execution_count": null,
      "outputs": [
        {
          "output_type": "stream",
          "name": "stdout",
          "text": [
            "\n",
            "======================================================================\n",
            "MODEL PREDICTIONS VISUALIZATION\n",
            "======================================================================\n"
          ]
        }
      ]
    },
    {
      "cell_type": "code",
      "source": [
        "def plot_predictions(y_true, y_pred, crop_name):\n",
        "    \"\"\"\n",
        "    Visualize actual vs predicted loan amounts\n",
        "    \"\"\"\n",
        "    fig, axes = plt.subplots(1, 2, figsize=(14, 5))\n",
        "\n",
        "    # Scatter plot\n",
        "    axes[0].scatter(y_true, y_pred, alpha=0.5, color='darkgreen')\n",
        "    axes[0].plot([y_true.min(), y_true.max()],\n",
        "                 [y_true.min(), y_true.max()],\n",
        "                 'r--', lw=2, label='Perfect Prediction')\n",
        "    axes[0].set_xlabel('Actual Loan Amount (KES)', fontsize=11)\n",
        "    axes[0].set_ylabel('Predicted Loan Amount (KES)', fontsize=11)\n",
        "    axes[0].set_title(f'{crop_name.upper()}: Actual vs Predicted', fontsize=12, fontweight='bold')\n",
        "    axes[0].legend()\n",
        "    axes[0].grid(True, alpha=0.3)\n",
        "\n",
        "    # Residuals\n",
        "    residuals = y_true - y_pred\n",
        "    axes[1].scatter(y_pred, residuals, alpha=0.5, color='darkblue')\n",
        "    axes[1].axhline(y=0, color='r', linestyle='--', lw=2)\n",
        "    axes[1].set_xlabel('Predicted Loan Amount (KES)', fontsize=11)\n",
        "    axes[1].set_ylabel('Residuals (KES)', fontsize=11)\n",
        "    axes[1].set_title(f'{crop_name.upper()}: Residual Plot', fontsize=12, fontweight='bold')\n",
        "    axes[1].grid(True, alpha=0.3)\n",
        "\n",
        "    plt.tight_layout()\n",
        "    plt.show()\n",
        "\n",
        "plot_predictions(y_test_maize, y_pred_maize, 'maize')\n",
        "plot_predictions(y_test_beans, y_pred_beans, 'beans')"
      ],
      "metadata": {
        "colab": {
          "base_uri": "https://localhost:8080/",
          "height": 963
        },
        "id": "Q7GmqWZMEEmY",
        "outputId": "56d133d1-e826-4873-b2a9-e632990417c6"
      },
      "execution_count": null,
      "outputs": [
        {
          "output_type": "display_data",
          "data": {
            "text/plain": [
              "<Figure size 1400x500 with 2 Axes>"
            ],
            "image/png": "[encoded data removed]"
          },
          "metadata": {}
        },
        {
          "output_type": "display_data",
          "data": {
            "text/plain": [
              "<Figure size 1400x500 with 2 Axes>"
            ],
            "image/png": "[encoded data removed]"
          },
          "metadata": {}
        }
      ]
    },
    {
      "cell_type": "markdown",
      "source": [
        "##  SAVE MODELS"
      ],
      "metadata": {
        "id": "dpkwuOlaER9P"
      }
    },
    {
      "cell_type": "code",
      "source": [
        "print(\"\\n\" + \"=\"*70)\n",
        "print(\"SAVING MODELS\")\n",
        "print(\"=\"*70)\n"
      ],
      "metadata": {
        "colab": {
          "base_uri": "https://localhost:8080/"
        },
        "id": "aglEtlkOETST",
        "outputId": "eea1d32a-2e78-4726-dffd-c88262ffff76"
      },
      "execution_count": null,
      "outputs": [
        {
          "output_type": "stream",
          "name": "stdout",
          "text": [
            "\n",
            "======================================================================\n",
            "SAVING MODELS\n",
            "======================================================================\n"
          ]
        }
      ]
    },
    {
      "cell_type": "code",
      "source": [
        "\n",
        "# Save models and scalers\n",
        "joblib.dump(model_maize, 'maize_loan_model.pkl')\n",
        "joblib.dump(model_beans, 'beans_loan_model.pkl')\n",
        "joblib.dump(scaler_maize, 'maize_scaler.pkl')\n",
        "joblib.dump(scaler_beans, 'beans_scaler.pkl')\n",
        "\n",
        "# Save feature names\n",
        "joblib.dump(maize_feature_cols, 'maize_features.pkl')\n",
        "joblib.dump(beans_feature_cols, 'beans_features.pkl')\n",
        "\n",
        "# Save crop parameters\n",
        "crop_params = {\n",
        "    'maize': {'cost': maize_cost, 'yield': maize_yield},\n",
        "    'beans': {'cost': beans_cost, 'yield': beans_yield}\n",
        "}\n",
        "joblib.dump(crop_params, 'crop_parameters.pkl')\n",
        "\n",
        "print(\"\\n✓ Models saved successfully!\")\n",
        "print(\"\\nSaved files:\")\n",
        "print(\"  - maize_loan_model.pkl\")\n",
        "print(\"  - beans_loan_model.pkl\")\n",
        "print(\"  - maize_scaler.pkl\")\n",
        "print(\"  - beans_scaler.pkl\")\n",
        "print(\"  - maize_features.pkl\")\n",
        "print(\"  - beans_features.pkl\")\n",
        "print(\"  - crop_parameters.pkl\")\n",
        "\n",
        "# Download models\n",
        "from google.colab import files\n",
        "files.download('maize_loan_model.pkl')\n",
        "files.download('beans_loan_model.pkl')\n",
        "files.download('maize_scaler.pkl')\n",
        "files.download('beans_scaler.pkl')\n",
        "files.download('maize_features.pkl')\n",
        "files.download('beans_features.pkl')\n",
        "files.download('crop_parameters.pkl')"
      ],
      "metadata": {
        "colab": {
          "base_uri": "https://localhost:8080/",
          "height": 217
        },
        "id": "DxXjiY9AEawK",
        "outputId": "c20f5330-a657-4b9d-c597-07aac7751f2a"
      },
      "execution_count": null,
      "outputs": [
        {
          "output_type": "stream",
          "name": "stdout",
          "text": [
            "\n",
            "✓ Models saved successfully!\n",
            "\n",
            "Saved files:\n",
            "  - maize_loan_model.pkl\n",
            "  - beans_loan_model.pkl\n",
            "  - maize_scaler.pkl\n",
            "  - beans_scaler.pkl\n",
            "  - maize_features.pkl\n",
            "  - beans_features.pkl\n",
            "  - crop_parameters.pkl\n"
          ]
        },
        {
          "output_type": "display_data",
          "data": {
            "text/plain": [
              "<IPython.core.display.Javascript object>"
            ],
            "application/javascript": [
              "\n",
              "    async function download(id, filename, size) {\n",
              "      if (!google.colab.kernel.accessAllowed) {\n",
              "        return;\n",
              "      }\n",
              "      const div = document.createElement('div');\n",
              "      const label = document.createElement('label');\n",
              "      label.textContent = `Downloading \"${filename}\": `;\n",
              "      div.appendChild(label);\n",
              "      const progress = document.createElement('progress');\n",
              "      progress.max = size;\n",
              "      div.appendChild(progress);\n",
              "      document.body.appendChild(div);\n",
              "\n",
              "      const buffers = [];\n",
              "      let downloaded = 0;\n",
              "\n",
              "      const channel = await google.colab.kernel.comms.open(id);\n",
              "      // Send a message to notify the kernel that we're ready.\n",
              "      channel.send({})\n",
              "\n",
              "      for await (const message of channel.messages) {\n",
              "        // Send a message to notify the kernel that we're ready.\n",
              "        channel.send({})\n",
              "        if (message.buffers) {\n",
              "          for (const buffer of message.buffers) {\n",
              "            buffers.push(buffer);\n",
              "            downloaded += buffer.byteLength;\n",
              "            progress.value = downloaded;\n",
              "          }\n",
              "        }\n",
              "      }\n",
              "      const blob = new Blob(buffers, {type: 'application/binary'});\n",
              "      const a = document.createElement('a');\n",
              "      a.href = window.URL.createObjectURL(blob);\n",
              "      a.download = filename;\n",
              "      div.appendChild(a);\n",
              "      a.click();\n",
              "      div.remove();\n",
              "    }\n",
              "  "
            ]
          },
          "metadata": {}
        },
        {
          "output_type": "display_data",
          "data": {
            "text/plain": [
              "<IPython.core.display.Javascript object>"
            ],
            "application/javascript": [
              "download(\"download_4481dcdf-f012-4a58-b19f-6a4a9b42fd09\", \"maize_loan_model.pkl\", 39729)"
            ]
          },
          "metadata": {}
        },
        {
          "output_type": "display_data",
          "data": {
            "text/plain": [
              "<IPython.core.display.Javascript object>"
            ],
            "application/javascript": [
              "\n",
              "    async function download(id, filename, size) {\n",
              "      if (!google.colab.kernel.accessAllowed) {\n",
              "        return;\n",
              "      }\n",
              "      const div = document.createElement('div');\n",
              "      const label = document.createElement('label');\n",
              "      label.textContent = `Downloading \"${filename}\": `;\n",
              "      div.appendChild(label);\n",
              "      const progress = document.createElement('progress');\n",
              "      progress.max = size;\n",
              "      div.appendChild(progress);\n",
              "      document.body.appendChild(div);\n",
              "\n",
              "      const buffers = [];\n",
              "      let downloaded = 0;\n",
              "\n",
              "      const channel = await google.colab.kernel.comms.open(id);\n",
              "      // Send a message to notify the kernel that we're ready.\n",
              "      channel.send({})\n",
              "\n",
              "      for await (const message of channel.messages) {\n",
              "        // Send a message to notify the kernel that we're ready.\n",
              "        channel.send({})\n",
              "        if (message.buffers) {\n",
              "          for (const buffer of message.buffers) {\n",
              "            buffers.push(buffer);\n",
              "            downloaded += buffer.byteLength;\n",
              "            progress.value = downloaded;\n",
              "          }\n",
              "        }\n",
              "      }\n",
              "      const blob = new Blob(buffers, {type: 'application/binary'});\n",
              "      const a = document.createElement('a');\n",
              "      a.href = window.URL.createObjectURL(blob);\n",
              "      a.download = filename;\n",
              "      div.appendChild(a);\n",
              "      a.click();\n",
              "      div.remove();\n",
              "    }\n",
              "  "
            ]
          },
          "metadata": {}
        },
        {
          "output_type": "display_data",
          "data": {
            "text/plain": [
              "<IPython.core.display.Javascript object>"
            ],
            "application/javascript": [
              "download(\"download_d9eb9480-2921-4c64-bbe3-088183af0e84\", \"beans_loan_model.pkl\", 64209)"
            ]
          },
          "metadata": {}
        },
        {
          "output_type": "display_data",
          "data": {
            "text/plain": [
              "<IPython.core.display.Javascript object>"
            ],
            "application/javascript": [
              "\n",
              "    async function download(id, filename, size) {\n",
              "      if (!google.colab.kernel.accessAllowed) {\n",
              "        return;\n",
              "      }\n",
              "      const div = document.createElement('div');\n",
              "      const label = document.createElement('label');\n",
              "      label.textContent = `Downloading \"${filename}\": `;\n",
              "      div.appendChild(label);\n",
              "      const progress = document.createElement('progress');\n",
              "      progress.max = size;\n",
              "      div.appendChild(progress);\n",
              "      document.body.appendChild(div);\n",
              "\n",
              "      const buffers = [];\n",
              "      let downloaded = 0;\n",
              "\n",
              "      const channel = await google.colab.kernel.comms.open(id);\n",
              "      // Send a message to notify the kernel that we're ready.\n",
              "      channel.send({})\n",
              "\n",
              "      for await (const message of channel.messages) {\n",
              "        // Send a message to notify the kernel that we're ready.\n",
              "        channel.send({})\n",
              "        if (message.buffers) {\n",
              "          for (const buffer of message.buffers) {\n",
              "            buffers.push(buffer);\n",
              "            downloaded += buffer.byteLength;\n",
              "            progress.value = downloaded;\n",
              "          }\n",
              "        }\n",
              "      }\n",
              "      const blob = new Blob(buffers, {type: 'application/binary'});\n",
              "      const a = document.createElement('a');\n",
              "      a.href = window.URL.createObjectURL(blob);\n",
              "      a.download = filename;\n",
              "      div.appendChild(a);\n",
              "      a.click();\n",
              "      div.remove();\n",
              "    }\n",
              "  "
            ]
          },
          "metadata": {}
        },
        {
          "output_type": "display_data",
          "data": {
            "text/plain": [
              "<IPython.core.display.Javascript object>"
            ],
            "application/javascript": [
              "download(\"download_6cf8b6f7-b92f-417c-937e-5e5c48fec634\", \"maize_scaler.pkl\", 1615)"
            ]
          },
          "metadata": {}
        },
        {
          "output_type": "display_data",
          "data": {
            "text/plain": [
              "<IPython.core.display.Javascript object>"
            ],
            "application/javascript": [
              "\n",
              "    async function download(id, filename, size) {\n",
              "      if (!google.colab.kernel.accessAllowed) {\n",
              "        return;\n",
              "      }\n",
              "      const div = document.createElement('div');\n",
              "      const label = document.createElement('label');\n",
              "      label.textContent = `Downloading \"${filename}\": `;\n",
              "      div.appendChild(label);\n",
              "      const progress = document.createElement('progress');\n",
              "      progress.max = size;\n",
              "      div.appendChild(progress);\n",
              "      document.body.appendChild(div);\n",
              "\n",
              "      const buffers = [];\n",
              "      let downloaded = 0;\n",
              "\n",
              "      const channel = await google.colab.kernel.comms.open(id);\n",
              "      // Send a message to notify the kernel that we're ready.\n",
              "      channel.send({})\n",
              "\n",
              "      for await (const message of channel.messages) {\n",
              "        // Send a message to notify the kernel that we're ready.\n",
              "        channel.send({})\n",
              "        if (message.buffers) {\n",
              "          for (const buffer of message.buffers) {\n",
              "            buffers.push(buffer);\n",
              "            downloaded += buffer.byteLength;\n",
              "            progress.value = downloaded;\n",
              "          }\n",
              "        }\n",
              "      }\n",
              "      const blob = new Blob(buffers, {type: 'application/binary'});\n",
              "      const a = document.createElement('a');\n",
              "      a.href = window.URL.createObjectURL(blob);\n",
              "      a.download = filename;\n",
              "      div.appendChild(a);\n",
              "      a.click();\n",
              "      div.remove();\n",
              "    }\n",
              "  "
            ]
          },
          "metadata": {}
        },
        {
          "output_type": "display_data",
          "data": {
            "text/plain": [
              "<IPython.core.display.Javascript object>"
            ],
            "application/javascript": [
              "download(\"download_624245bd-dd3f-4fbd-935e-f8e53aa240db\", \"beans_scaler.pkl\", 1615)"
            ]
          },
          "metadata": {}
        },
        {
          "output_type": "display_data",
          "data": {
            "text/plain": [
              "<IPython.core.display.Javascript object>"
            ],
            "application/javascript": [
              "\n",
              "    async function download(id, filename, size) {\n",
              "      if (!google.colab.kernel.accessAllowed) {\n",
              "        return;\n",
              "      }\n",
              "      const div = document.createElement('div');\n",
              "      const label = document.createElement('label');\n",
              "      label.textContent = `Downloading \"${filename}\": `;\n",
              "      div.appendChild(label);\n",
              "      const progress = document.createElement('progress');\n",
              "      progress.max = size;\n",
              "      div.appendChild(progress);\n",
              "      document.body.appendChild(div);\n",
              "\n",
              "      const buffers = [];\n",
              "      let downloaded = 0;\n",
              "\n",
              "      const channel = await google.colab.kernel.comms.open(id);\n",
              "      // Send a message to notify the kernel that we're ready.\n",
              "      channel.send({})\n",
              "\n",
              "      for await (const message of channel.messages) {\n",
              "        // Send a message to notify the kernel that we're ready.\n",
              "        channel.send({})\n",
              "        if (message.buffers) {\n",
              "          for (const buffer of message.buffers) {\n",
              "            buffers.push(buffer);\n",
              "            downloaded += buffer.byteLength;\n",
              "            progress.value = downloaded;\n",
              "          }\n",
              "        }\n",
              "      }\n",
              "      const blob = new Blob(buffers, {type: 'application/binary'});\n",
              "      const a = document.createElement('a');\n",
              "      a.href = window.URL.createObjectURL(blob);\n",
              "      a.download = filename;\n",
              "      div.appendChild(a);\n",
              "      a.click();\n",
              "      div.remove();\n",
              "    }\n",
              "  "
            ]
          },
          "metadata": {}
        },
        {
          "output_type": "display_data",
          "data": {
            "text/plain": [
              "<IPython.core.display.Javascript object>"
            ],
            "application/javascript": [
              "download(\"download_74411632-974e-4e03-9f99-69a1a714707e\", \"maize_features.pkl\", 320)"
            ]
          },
          "metadata": {}
        },
        {
          "output_type": "display_data",
          "data": {
            "text/plain": [
              "<IPython.core.display.Javascript object>"
            ],
            "application/javascript": [
              "\n",
              "    async function download(id, filename, size) {\n",
              "      if (!google.colab.kernel.accessAllowed) {\n",
              "        return;\n",
              "      }\n",
              "      const div = document.createElement('div');\n",
              "      const label = document.createElement('label');\n",
              "      label.textContent = `Downloading \"${filename}\": `;\n",
              "      div.appendChild(label);\n",
              "      const progress = document.createElement('progress');\n",
              "      progress.max = size;\n",
              "      div.appendChild(progress);\n",
              "      document.body.appendChild(div);\n",
              "\n",
              "      const buffers = [];\n",
              "      let downloaded = 0;\n",
              "\n",
              "      const channel = await google.colab.kernel.comms.open(id);\n",
              "      // Send a message to notify the kernel that we're ready.\n",
              "      channel.send({})\n",
              "\n",
              "      for await (const message of channel.messages) {\n",
              "        // Send a message to notify the kernel that we're ready.\n",
              "        channel.send({})\n",
              "        if (message.buffers) {\n",
              "          for (const buffer of message.buffers) {\n",
              "            buffers.push(buffer);\n",
              "            downloaded += buffer.byteLength;\n",
              "            progress.value = downloaded;\n",
              "          }\n",
              "        }\n",
              "      }\n",
              "      const blob = new Blob(buffers, {type: 'application/binary'});\n",
              "      const a = document.createElement('a');\n",
              "      a.href = window.URL.createObjectURL(blob);\n",
              "      a.download = filename;\n",
              "      div.appendChild(a);\n",
              "      a.click();\n",
              "      div.remove();\n",
              "    }\n",
              "  "
            ]
          },
          "metadata": {}
        },
        {
          "output_type": "display_data",
          "data": {
            "text/plain": [
              "<IPython.core.display.Javascript object>"
            ],
            "application/javascript": [
              "download(\"download_3203110b-c902-4c91-82c8-06a43d6a76ce\", \"beans_features.pkl\", 320)"
            ]
          },
          "metadata": {}
        },
        {
          "output_type": "display_data",
          "data": {
            "text/plain": [
              "<IPython.core.display.Javascript object>"
            ],
            "application/javascript": [
              "\n",
              "    async function download(id, filename, size) {\n",
              "      if (!google.colab.kernel.accessAllowed) {\n",
              "        return;\n",
              "      }\n",
              "      const div = document.createElement('div');\n",
              "      const label = document.createElement('label');\n",
              "      label.textContent = `Downloading \"${filename}\": `;\n",
              "      div.appendChild(label);\n",
              "      const progress = document.createElement('progress');\n",
              "      progress.max = size;\n",
              "      div.appendChild(progress);\n",
              "      document.body.appendChild(div);\n",
              "\n",
              "      const buffers = [];\n",
              "      let downloaded = 0;\n",
              "\n",
              "      const channel = await google.colab.kernel.comms.open(id);\n",
              "      // Send a message to notify the kernel that we're ready.\n",
              "      channel.send({})\n",
              "\n",
              "      for await (const message of channel.messages) {\n",
              "        // Send a message to notify the kernel that we're ready.\n",
              "        channel.send({})\n",
              "        if (message.buffers) {\n",
              "          for (const buffer of message.buffers) {\n",
              "            buffers.push(buffer);\n",
              "            downloaded += buffer.byteLength;\n",
              "            progress.value = downloaded;\n",
              "          }\n",
              "        }\n",
              "      }\n",
              "      const blob = new Blob(buffers, {type: 'application/binary'});\n",
              "      const a = document.createElement('a');\n",
              "      a.href = window.URL.createObjectURL(blob);\n",
              "      a.download = filename;\n",
              "      div.appendChild(a);\n",
              "      a.click();\n",
              "      div.remove();\n",
              "    }\n",
              "  "
            ]
          },
          "metadata": {}
        },
        {
          "output_type": "display_data",
          "data": {
            "text/plain": [
              "<IPython.core.display.Javascript object>"
            ],
            "application/javascript": [
              "download(\"download_f2fd6707-b84d-4f3a-a04c-b3edd3929689\", \"crop_parameters.pkl\", 71)"
            ]
          },
          "metadata": {}
        }
      ]
    },
    {
      "cell_type": "markdown",
      "source": [
        "##  EXAMPLE PREDICTIONS"
      ],
      "metadata": {
        "id": "y9bJNuq2EoPN"
      }
    },
    {
      "cell_type": "code",
      "source": [
        "print(\"\\n\" + \"=\"*70)\n",
        "print(\"EXAMPLE LOAN PREDICTIONS\")\n",
        "print(\"=\"*70)"
      ],
      "metadata": {
        "colab": {
          "base_uri": "https://localhost:8080/"
        },
        "id": "3iK83wrUEph-",
        "outputId": "468e215b-7940-494c-db85-61bbd709833e"
      },
      "execution_count": null,
      "outputs": [
        {
          "output_type": "stream",
          "name": "stdout",
          "text": [
            "\n",
            "======================================================================\n",
            "EXAMPLE LOAN PREDICTIONS\n",
            "======================================================================\n"
          ]
        }
      ]
    },
    {
      "cell_type": "code",
      "source": [
        "def predict_loan_for_farmer(crop_name, land_size_ha, historical_yield_pct,\n",
        "                           current_price, model, scaler, features):\n",
        "    \"\"\"\n",
        "    Predict loan amount for a specific farmer\n",
        "    \"\"\"\n",
        "    # Get crop parameters\n",
        "    if crop_name == 'maize':\n",
        "        base_yield = maize_yield\n",
        "        cost_per_ha = maize_cost\n",
        "    else:\n",
        "        base_yield = beans_yield\n",
        "        cost_per_ha = beans_cost\n",
        "\n",
        "    # Adjust yield based on farmer's historical performance\n",
        "    expected_yield = base_yield * (historical_yield_pct / 100)\n",
        "\n",
        "    # Create feature vector (simplified for demonstration)\n",
        "    # In production, you'd need current market data\n",
        "    feature_vector = np.zeros(len(features))\n",
        "    # Set key features (you'd populate these from current data)\n",
        "    avg_price_idx = [i for i, f in enumerate(features) if 'avg_price' in f and 'lag' not in f][0]\n",
        "    feature_vector[avg_price_idx] = current_price\n",
        "\n",
        "    # Scale and predict\n",
        "    feature_vector_scaled = scaler.transform(feature_vector.reshape(1, -1))\n",
        "    loan_per_ha = model.predict(feature_vector_scaled)[0]\n",
        "\n",
        "    # Calculate totals\n",
        "    total_loan = loan_per_ha * land_size_ha\n",
        "    total_cost = cost_per_ha * land_size_ha\n",
        "    expected_revenue = expected_yield * land_size_ha * current_price\n",
        "    expected_profit = expected_revenue - total_cost\n",
        "    roi = (expected_profit / total_loan) * 100\n",
        "\n",
        "    return {\n",
        "        'recommended_loan': total_loan,\n",
        "        'total_cost': total_cost,\n",
        "        'expected_revenue': expected_revenue,\n",
        "        'expected_profit': expected_profit,\n",
        "        'roi': roi\n",
        "    }\n",
        "\n",
        "# Example farmer scenarios\n",
        "print(\"\\n📊 FARMER SCENARIO 1: Small-scale Maize Farmer\")\n",
        "result1 = predict_loan_for_farmer(\n",
        "    crop_name='maize',\n",
        "    land_size_ha=3,\n",
        "    historical_yield_pct=85,\n",
        "    current_price=60,\n",
        "    model=model_maize,\n",
        "    scaler=scaler_maize,\n",
        "    features=maize_feature_cols\n",
        ")\n",
        "print(f\"  Land Size: 3 hectares\")\n",
        "print(f\"  Recommended Loan: KES {result1['recommended_loan']:,.0f}\")\n",
        "print(f\"  Expected Revenue: KES {result1['expected_revenue']:,.0f}\")\n",
        "print(f\"  Expected Profit: KES {result1['expected_profit']:,.0f}\")\n",
        "print(f\"  ROI: {result1['roi']:.1f}%\")\n",
        "\n",
        "print(\"\\n📊 FARMER SCENARIO 2: Medium-scale Beans Farmer\")\n",
        "result2 = predict_loan_for_farmer(\n",
        "    crop_name='beans',\n",
        "    land_size_ha=5,\n",
        "    historical_yield_pct=90,\n",
        "    current_price=150,\n",
        "    model=model_beans,\n",
        "    scaler=scaler_beans,\n",
        "    features=beans_feature_cols\n",
        ")\n",
        "print(f\"  Land Size: 5 hectares\")\n",
        "print(f\"  Recommended Loan: KES {result2['recommended_loan']:,.0f}\")\n",
        "print(f\"  Expected Revenue: KES {result2['expected_revenue']:,.0f}\")\n",
        "print(f\"  Expected Profit: KES {result2['expected_profit']:,.0f}\")\n",
        "print(f\"  ROI: {result2['roi']:.1f}%\")\n",
        "\n",
        "print(\"\\n\" + \"=\"*70)\n",
        "print(\"✅ MODEL TRAINING COMPLETE!\")\n",
        "print(\"=\"*70)\n",
        "print(\"\\nNext Steps:\")\n",
        "print(\"1. Download the saved model files\")\n",
        "print(\"2. Integrate with your loan application system\")\n",
        "print(\"3. Use the predict_loan_for_farmer() function for new applications\")\n",
        "print(\"4. Retrain model quarterly with new price data\")\n",
        "print(\"\\n\" + \"=\"*70)"
      ],
      "metadata": {
        "colab": {
          "base_uri": "https://localhost:8080/"
        },
        "id": "UqVhuI_6EtlI",
        "outputId": "01ded04e-9fc2-4c21-90b2-866713a33a6b"
      },
      "execution_count": null,
      "outputs": [
        {
          "output_type": "stream",
          "name": "stdout",
          "text": [
            "\n",
            "📊 FARMER SCENARIO 1: Small-scale Maize Farmer\n",
            "  Land Size: 3 hectares\n",
            "  Recommended Loan: KES 121,500\n",
            "  Expected Revenue: KES 306,000\n",
            "  Expected Profit: KES 171,000\n",
            "  ROI: 140.7%\n",
            "\n",
            "📊 FARMER SCENARIO 2: Medium-scale Beans Farmer\n",
            "  Land Size: 5 hectares\n",
            "  Recommended Loan: KES 209,592\n",
            "  Expected Revenue: KES 540,000\n",
            "  Expected Profit: KES 240,000\n",
            "  ROI: 114.5%\n",
            "\n",
            "======================================================================\n",
            "✅ MODEL TRAINING COMPLETE!\n",
            "======================================================================\n",
            "\n",
            "Next Steps:\n",
            "1. Download the saved model files\n",
            "2. Integrate with your loan application system\n",
            "3. Use the predict_loan_for_farmer() function for new applications\n",
            "4. Retrain model quarterly with new price data\n",
            "\n",
            "======================================================================\n"
          ]
        }
      ]
    }
  ]
}